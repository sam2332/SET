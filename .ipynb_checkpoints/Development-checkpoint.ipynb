{
 "cells": [
  {
   "cell_type": "code",
   "execution_count": 2,
   "metadata": {},
   "outputs": [],
   "source": [
    "from SET.core import Core"
   ]
  },
  {
   "cell_type": "code",
   "execution_count": 3,
   "metadata": {},
   "outputs": [],
   "source": [
    "a = Core()"
   ]
  },
  {
   "cell_type": "code",
   "execution_count": 4,
   "metadata": {},
   "outputs": [],
   "source": [
    "a.startSession()"
   ]
  },
  {
   "cell_type": "code",
   "execution_count": 3,
   "metadata": {},
   "outputs": [],
   "source": []
  },
  {
   "cell_type": "code",
   "execution_count": 3,
   "metadata": {},
   "outputs": [],
   "source": []
  },
  {
   "cell_type": "code",
   "execution_count": 3,
   "metadata": {},
   "outputs": [],
   "source": [
    "login_url = \"http://cms3.revize.com/revize/security/index.jsp?webspace=inghamcounty&filename=/departments_and_officials/animal_control/index.php\""
   ]
  },
  {
   "cell_type": "code",
   "execution_count": null,
   "metadata": {},
   "outputs": [],
   "source": [
    "class AuthedSiteAdaptor():\n",
    "    loggedIn = False\n",
    "    def _isLoggedIn(self):\n",
    "        pass\n",
    "    \n",
    "    def _logout(self):\n",
    "        pass\n",
    "    \n",
    "    def _login(self):\n",
    "        pass\n",
    "    \n",
    "    def _tick(self):\n",
    "        if _isLoggedIn():\n",
    "            self.loggedIn = True\n",
    "            return True\n",
    "        else:\n",
    "            self.loggedIn = False\n",
    "            return False\n",
    "        \n",
    "class ReviseAdaptor(AuthedSiteAdaptor)\n",
    "    def _isLoggedIn(self):\n",
    "    def _logout(self):\n",
    "    def _login(self):\n",
    "        driver.get('http://cms3.revize.com/revize/security/index.jsp?webspace=inghamcounty&filename=/departments_and_officials/county_clerk/weekly_business_filings.php')"
   ]
  }
 ],
 "metadata": {
  "kernelspec": {
   "display_name": "Python 3",
   "language": "python",
   "name": "python3"
  },
  "language_info": {
   "codemirror_mode": {
    "name": "ipython",
    "version": 3
   },
   "file_extension": ".py",
   "mimetype": "text/x-python",
   "name": "python",
   "nbconvert_exporter": "python",
   "pygments_lexer": "ipython3",
   "version": "3.6.5"
  }
 },
 "nbformat": 4,
 "nbformat_minor": 4
}
