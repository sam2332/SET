{
 "cells": [
  {
   "cell_type": "code",
   "execution_count": null,
   "metadata": {},
   "outputs": [],
   "source": [
    "from SET.core import Core"
   ]
  },
  {
   "cell_type": "code",
   "execution_count": null,
   "metadata": {},
   "outputs": [],
   "source": [
    "a = Core()"
   ]
  },
  {
   "cell_type": "code",
   "execution_count": 16,
   "metadata": {},
   "outputs": [],
   "source": [
    "a.startSession()"
   ]
  },
  {
   "cell_type": "code",
   "execution_count": 17,
   "metadata": {},
   "outputs": [],
   "source": [
    "login_url = \"http://cms3.revize.com/revize/security/index.jsp?webspace=inghamcounty&filename=/departments_and_officials/animal_control/index.php\""
   ]
  },
  {
   "cell_type": "code",
   "execution_count": 18,
   "metadata": {},
   "outputs": [],
   "source": [
    "a.driver.get(login_url)"
   ]
  },
  {
   "cell_type": "code",
   "execution_count": null,
   "metadata": {},
   "outputs": [],
   "source": [
    "test_url = \"http://cms3.revize.com/revize/admincenter/subjects.jsp\""
   ]
  },
  {
   "cell_type": "code",
   "execution_count": null,
   "metadata": {},
   "outputs": [],
   "source": [
    "a.getRequestsSession().get(test_url).text"
   ]
  },
  {
   "cell_type": "code",
   "execution_count": 15,
   "metadata": {},
   "outputs": [],
   "source": [
    "a.endSession()"
   ]
  },
  {
   "cell_type": "code",
   "execution_count": 23,
   "metadata": {},
   "outputs": [
    {
     "data": {
      "text/plain": [
       "['CDwindow-50ACB66E2FD0837290812CBA8B8670B3']"
      ]
     },
     "execution_count": 23,
     "metadata": {},
     "output_type": "execute_result"
    }
   ],
   "source": [
    "a.driver.window_handles"
   ]
  },
  {
   "cell_type": "code",
   "execution_count": 27,
   "metadata": {},
   "outputs": [
    {
     "ename": "TypeError",
     "evalue": "'SwitchTo' object is not callable",
     "output_type": "error",
     "traceback": [
      "\u001b[1;31m---------------------------------------------------------------------------\u001b[0m",
      "\u001b[1;31mTypeError\u001b[0m                                 Traceback (most recent call last)",
      "\u001b[1;32m<ipython-input-27-6f2b42f3079f>\u001b[0m in \u001b[0;36m<module>\u001b[1;34m\u001b[0m\n\u001b[0;32m      1\u001b[0m \u001b[1;32mfor\u001b[0m \u001b[0mwindow\u001b[0m \u001b[1;32min\u001b[0m \u001b[0ma\u001b[0m\u001b[1;33m.\u001b[0m\u001b[0mdriver\u001b[0m\u001b[1;33m.\u001b[0m\u001b[0mwindow_handles\u001b[0m\u001b[1;33m:\u001b[0m\u001b[1;33m\u001b[0m\u001b[0m\n\u001b[1;32m----> 2\u001b[1;33m     \u001b[0ma\u001b[0m\u001b[1;33m.\u001b[0m\u001b[0mdriver\u001b[0m\u001b[1;33m.\u001b[0m\u001b[0mswitch_to\u001b[0m\u001b[1;33m(\u001b[0m\u001b[0mwindow\u001b[0m\u001b[1;33m)\u001b[0m\u001b[1;33m\u001b[0m\u001b[0m\n\u001b[0m\u001b[0;32m      3\u001b[0m     \u001b[0ma\u001b[0m\u001b[1;33m.\u001b[0m\u001b[0mdriver\u001b[0m\u001b[1;33m.\u001b[0m\u001b[0mclose\u001b[0m\u001b[1;33m(\u001b[0m\u001b[1;33m)\u001b[0m\u001b[1;33m\u001b[0m\u001b[0m\n",
      "\u001b[1;31mTypeError\u001b[0m: 'SwitchTo' object is not callable"
     ]
    }
   ],
   "source": [
    "for window in a.driver.window_handles:\n",
    "    a.driver.switch_to(window)\n",
    "    a.driver.close()"
   ]
  },
  {
   "cell_type": "code",
   "execution_count": 20,
   "metadata": {},
   "outputs": [
    {
     "data": {
      "text/plain": [
       "['__class__',\n",
       " '__delattr__',\n",
       " '__dict__',\n",
       " '__dir__',\n",
       " '__doc__',\n",
       " '__enter__',\n",
       " '__eq__',\n",
       " '__exit__',\n",
       " '__format__',\n",
       " '__ge__',\n",
       " '__getattribute__',\n",
       " '__gt__',\n",
       " '__hash__',\n",
       " '__init__',\n",
       " '__init_subclass__',\n",
       " '__le__',\n",
       " '__lt__',\n",
       " '__module__',\n",
       " '__ne__',\n",
       " '__new__',\n",
       " '__reduce__',\n",
       " '__reduce_ex__',\n",
       " '__repr__',\n",
       " '__setattr__',\n",
       " '__sizeof__',\n",
       " '__str__',\n",
       " '__subclasshook__',\n",
       " '__weakref__',\n",
       " '_file_detector',\n",
       " '_is_remote',\n",
       " '_mobile',\n",
       " '_switch_to',\n",
       " '_unwrap_value',\n",
       " '_web_element_cls',\n",
       " '_wrap_value',\n",
       " 'add_cookie',\n",
       " 'application_cache',\n",
       " 'back',\n",
       " 'capabilities',\n",
       " 'close',\n",
       " 'command_executor',\n",
       " 'create_options',\n",
       " 'create_web_element',\n",
       " 'current_url',\n",
       " 'current_window_handle',\n",
       " 'delete_all_cookies',\n",
       " 'delete_cookie',\n",
       " 'desired_capabilities',\n",
       " 'error_handler',\n",
       " 'execute',\n",
       " 'execute_async_script',\n",
       " 'execute_cdp_cmd',\n",
       " 'execute_script',\n",
       " 'file_detector',\n",
       " 'file_detector_context',\n",
       " 'find_element',\n",
       " 'find_element_by_class_name',\n",
       " 'find_element_by_css_selector',\n",
       " 'find_element_by_id',\n",
       " 'find_element_by_link_text',\n",
       " 'find_element_by_name',\n",
       " 'find_element_by_partial_link_text',\n",
       " 'find_element_by_tag_name',\n",
       " 'find_element_by_xpath',\n",
       " 'find_elements',\n",
       " 'find_elements_by_class_name',\n",
       " 'find_elements_by_css_selector',\n",
       " 'find_elements_by_id',\n",
       " 'find_elements_by_link_text',\n",
       " 'find_elements_by_name',\n",
       " 'find_elements_by_partial_link_text',\n",
       " 'find_elements_by_tag_name',\n",
       " 'find_elements_by_xpath',\n",
       " 'forward',\n",
       " 'fullscreen_window',\n",
       " 'get',\n",
       " 'get_cookie',\n",
       " 'get_cookies',\n",
       " 'get_log',\n",
       " 'get_network_conditions',\n",
       " 'get_screenshot_as_base64',\n",
       " 'get_screenshot_as_file',\n",
       " 'get_screenshot_as_png',\n",
       " 'get_window_position',\n",
       " 'get_window_rect',\n",
       " 'get_window_size',\n",
       " 'implicitly_wait',\n",
       " 'launch_app',\n",
       " 'log_types',\n",
       " 'maximize_window',\n",
       " 'minimize_window',\n",
       " 'mobile',\n",
       " 'name',\n",
       " 'orientation',\n",
       " 'page_source',\n",
       " 'quit',\n",
       " 'refresh',\n",
       " 'save_screenshot',\n",
       " 'service',\n",
       " 'session_id',\n",
       " 'set_network_conditions',\n",
       " 'set_page_load_timeout',\n",
       " 'set_script_timeout',\n",
       " 'set_window_position',\n",
       " 'set_window_rect',\n",
       " 'set_window_size',\n",
       " 'start_client',\n",
       " 'start_session',\n",
       " 'stop_client',\n",
       " 'switch_to',\n",
       " 'switch_to_active_element',\n",
       " 'switch_to_alert',\n",
       " 'switch_to_default_content',\n",
       " 'switch_to_frame',\n",
       " 'switch_to_window',\n",
       " 'title',\n",
       " 'w3c',\n",
       " 'window_handles']"
      ]
     },
     "execution_count": 20,
     "metadata": {},
     "output_type": "execute_result"
    }
   ],
   "source": [
    "dir(a.driver)"
   ]
  },
  {
   "cell_type": "code",
   "execution_count": null,
   "metadata": {},
   "outputs": [],
   "source": [
    "class AuthedSiteAdaptor():\n",
    "    loggedIn = False\n",
    "    def _isLoggedIn(self):\n",
    "        pass\n",
    "    \n",
    "    def _logout(self):\n",
    "        pass\n",
    "    \n",
    "    def _login(self):\n",
    "        pass\n",
    "    \n",
    "    def _tick(self):\n",
    "        if _isLoggedIn():\n",
    "            self.loggedIn = True\n",
    "            return True\n",
    "        else:\n",
    "            self.loggedIn = False\n",
    "            return False\n",
    "        \n",
    "class ReviseAdaptor(AuthedSiteAdaptor)\n",
    "    def _isLoggedIn(self):\n",
    "    def _logout(self):\n",
    "    def _login(self):\n",
    "        driver.get('http://cms3.revize.com/revize/security/index.jsp?webspace=inghamcounty&filename=/departments_and_officials/county_clerk/weekly_business_filings.php')"
   ]
  }
 ],
 "metadata": {
  "kernelspec": {
   "display_name": "Python 3",
   "language": "python",
   "name": "python3"
  },
  "language_info": {
   "codemirror_mode": {
    "name": "ipython",
    "version": 3
   },
   "file_extension": ".py",
   "mimetype": "text/x-python",
   "name": "python",
   "nbconvert_exporter": "python",
   "pygments_lexer": "ipython3",
   "version": "3.6.5"
  }
 },
 "nbformat": 4,
 "nbformat_minor": 4
}
