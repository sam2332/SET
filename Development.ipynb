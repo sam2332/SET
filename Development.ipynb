{
 "cells": [
  {
   "cell_type": "code",
   "execution_count": null,
   "metadata": {},
   "outputs": [],
   "source": [
    "from SET.core import Core\n",
    "from getpass import getpass"
   ]
  },
  {
   "cell_type": "code",
   "execution_count": null,
   "metadata": {},
   "outputs": [],
   "source": [
    "class AuthedSiteAdaptor():\n",
    "    loggedIn = False\n",
    "    def __init__(self,core=None):\n",
    "        if core is None:\n",
    "            core = Core()\n",
    "        self.core = core\n",
    "        self.core.startSession()\n",
    "        self.driver = self.core.getDriver()\n",
    "        print('setting driver to ', self.driver)\n",
    "        self._isLoggedIn()\n",
    "        \n",
    "    def _isLoggedIn(self):\n",
    "        pass\n",
    "    \n",
    "    def _login(self):\n",
    "        pass\n",
    "    \n",
    "    def get(self, url):\n",
    "        self._tick()\n",
    "        self.driver.get(url)\n",
    "        return self.driver\n",
    "    \n",
    "    def _tick(self):\n",
    "        if self._isLoggedIn():\n",
    "            self.loggedIn = True\n",
    "            return True\n",
    "        else:\n",
    "            self.loggedIn = self._login()\n",
    "            return self.loggedIn"
   ]
  },
  {
   "cell_type": "code",
   "execution_count": null,
   "metadata": {},
   "outputs": [],
   "source": [
    "class RevizeAdaptor(AuthedSiteAdaptor):\n",
    "    username = None\n",
    "    password = None\n",
    "    def _isLoggedIn(self):\n",
    "        test_url = \"http://cms3.revize.com/revize/admincenter/subjects.jsp\"\n",
    "        text = self.core.getRequestsSession().get(test_url).text\n",
    "        if \"Add, Edit, & Create\" in text:\n",
    "            print(\"Logged in\")\n",
    "            return True\n",
    "        else:\n",
    "            print('Not logged in')\n",
    "            return False\n",
    "    \n",
    "    def _login(self):\n",
    "        print('LOADING LOGIN!!!!')\n",
    "        print(self.driver)\n",
    "        self.driver.get(\"http://cms3.revize.com/revize/security/index.jsp?webspace=inghamcounty&filename=/departments_and_officials/animal_control/index.php\")\n",
    "        self.driver.find_element_by_xpath(\"//input[@name='userID']\").send_keys(self.username)\n",
    "        self.driver.find_element_by_xpath(\"//input[@name='password']\").send_keys(self.password)\n",
    "        self.driver.find_element_by_xpath(\"//input[@name='submit1']\").click()   \n",
    "        if \"User Id and Password combination are invalid.\" in self.driver.page_source:\n",
    "            print('login failed')\n",
    "            return False\n",
    "        print('login successful')\n",
    "        return True"
   ]
  },
  {
   "cell_type": "code",
   "execution_count": null,
   "metadata": {},
   "outputs": [],
   "source": [
    "test = RevizeAdaptor()\n",
    "test.username = input('username')\n",
    "test.password = getpass('password:')"
   ]
  },
  {
   "cell_type": "code",
   "execution_count": null,
   "metadata": {},
   "outputs": [],
   "source": [
    "def test_login():\n",
    "    try:\n",
    "        test.get('http://cms3.revize.com/revize/inghamcounty/departments_and_officials/county_clerk/index.php')\n",
    "    except Exception as e:\n",
    "        print(e)\n",
    "    assert test._isLoggedIn()\n",
    "test_login()"
   ]
  },
  {
   "cell_type": "code",
   "execution_count": null,
   "metadata": {},
   "outputs": [],
   "source": [
    "test.core.endSession()"
   ]
  },
  {
   "cell_type": "code",
   "execution_count": null,
   "metadata": {},
   "outputs": [],
   "source": []
  },
  {
   "cell_type": "code",
   "execution_count": null,
   "metadata": {},
   "outputs": [],
   "source": []
  },
  {
   "cell_type": "code",
   "execution_count": null,
   "metadata": {},
   "outputs": [],
   "source": []
  },
  {
   "cell_type": "code",
   "execution_count": null,
   "metadata": {},
   "outputs": [],
   "source": []
  },
  {
   "cell_type": "markdown",
   "metadata": {},
   "source": [
    "## RANDOM STUFF BELOW::"
   ]
  },
  {
   "cell_type": "code",
   "execution_count": null,
   "metadata": {},
   "outputs": [],
   "source": [
    "a.driver.window_handles"
   ]
  },
  {
   "cell_type": "code",
   "execution_count": null,
   "metadata": {},
   "outputs": [],
   "source": [
    "for window in a.driver.window_handles:\n",
    "    a.driver.switch_to(window)\n",
    "    a.driver.close()"
   ]
  },
  {
   "cell_type": "code",
   "execution_count": null,
   "metadata": {},
   "outputs": [],
   "source": [
    "dir(a.driver)"
   ]
  },
  {
   "cell_type": "code",
   "execution_count": null,
   "metadata": {},
   "outputs": [],
   "source": [
    "        driver.find_element_by_xpath(\"//input[@name='appendedInput']\").send_keys(input('username:'))\n",
    "        driver.find_element_by_xpath(\"//input[@name='password']\").send_keys(input('username:'))\n",
    "        driver.find_element_by_xpath(\"//input[@name='submit1']\").click()\n",
    "        "
   ]
  }
 ],
 "metadata": {
  "kernelspec": {
   "display_name": "Python 3",
   "language": "python",
   "name": "python3"
  },
  "language_info": {
   "codemirror_mode": {
    "name": "ipython",
    "version": 3
   },
   "file_extension": ".py",
   "mimetype": "text/x-python",
   "name": "python",
   "nbconvert_exporter": "python",
   "pygments_lexer": "ipython3",
   "version": "3.6.5"
  }
 },
 "nbformat": 4,
 "nbformat_minor": 4
}
