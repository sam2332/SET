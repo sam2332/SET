{
 "cells": [
  {
   "cell_type": "code",
   "execution_count": 4,
   "metadata": {},
   "outputs": [],
   "source": [
    "from SET.Adaptors import AuthedSiteAdaptor\n",
    "from SET.Adaptors import FormSubmission\n",
    "from SET.Utilities import fullpage_screenshot"
   ]
  },
  {
   "cell_type": "code",
   "execution_count": 5,
   "metadata": {},
   "outputs": [],
   "source": [
    "from getpass import getpass"
   ]
  },
  {
   "cell_type": "code",
   "execution_count": 6,
   "metadata": {},
   "outputs": [],
   "source": [
    "from SET.core import Core"
   ]
  },
  {
   "cell_type": "code",
   "execution_count": null,
   "metadata": {},
   "outputs": [],
   "source": []
  },
  {
   "cell_type": "code",
   "execution_count": 7,
   "metadata": {},
   "outputs": [
    {
     "name": "stdin",
     "output_type": "stream",
     "text": [
      "username: srudloff@ingham.org\n",
      "password: ·········\n"
     ]
    }
   ],
   "source": [
    "user = input('username:')\n",
    "passwd = getpass('password:')"
   ]
  },
  {
   "cell_type": "code",
   "execution_count": null,
   "metadata": {},
   "outputs": [],
   "source": []
  },
  {
   "cell_type": "code",
   "execution_count": 8,
   "metadata": {},
   "outputs": [],
   "source": [
    "class RevizeAdaptor(AuthedSiteAdaptor):\n",
    "    def __init__(self,core=None,username=None,password=None):\n",
    "        self.login = FormSubmission(\n",
    "            url=\"http://cms3.revize.com/revize/security/index.jsp?webspace=inghamcounty&filename=/departments_and_officials/animal_control/index.php\",\n",
    "            form_data={\n",
    "                'userID': username,\n",
    "                'password': password\n",
    "            },\n",
    "            submit_click='submit1'\n",
    "        )\n",
    "        super().__init__(core)\n",
    "    \n",
    "    def _isLoggedIn(self):\n",
    "        test_url = \"http://cms3.revize.com/revize/admincenter/subjects.jsp\"\n",
    "        text = self.core.getRequestsSession().get(test_url).text\n",
    "        if \"You are currently logged In\" in text:\n",
    "            self.gotoCMS()\n",
    "            return True\n",
    "        if \"Manage Users\" in text:\n",
    "            return True\n",
    "        else:\n",
    "            return False\n",
    "        \n",
    "    def gotoCMS(self):\n",
    "        self.core.clickLinkByText(\"Login\")\n",
    "        if \"You are currently logged In. Click below to logout\" in self.driver.page_source:\n",
    "            self.core.clickLinkByXPath('//*[@id=\"login-form\"]/form/div/input[1]')\n",
    "    \n",
    "    def _login(self):\n",
    "        self.login.run(self.core)\n",
    "\n",
    "        if \"User Id and Password combination are invalid.\" in self.driver.page_source:\n",
    "            print('Login Failed')\n",
    "            return False\n",
    "        \n",
    "        print('Login Successful')\n",
    "        return True"
   ]
  },
  {
   "cell_type": "code",
   "execution_count": 9,
   "metadata": {},
   "outputs": [],
   "source": [
    "c =  Core()\n",
    "revize = RevizeAdaptor(\n",
    "    core = c,\n",
    "    username = user,\n",
    "    password = passwd\n",
    ")\n",
    "revize.get('http://it.ingham.org/test.php')\n",
    "revize.get('http://cms3.revize.com/revize/admincenter/subjects.jsp')\n",
    "if not revize._isLoggedIn():\n",
    "    raise Exception(\"Login Failed\")"
   ]
  },
  {
   "cell_type": "code",
   "execution_count": 11,
   "metadata": {},
   "outputs": [
    {
     "name": "stdout",
     "output_type": "stream",
     "text": [
      "Starting chrome full page screenshot workaround ...\n",
      "Total: (1903, 5609), Viewport: (1903,925)\n",
      "Appending rectangle (0,0,1903,925)\n",
      "Appending rectangle (0,925,1903,1850)\n",
      "Appending rectangle (0,1850,1903,2775)\n",
      "Appending rectangle (0,2775,1903,3700)\n",
      "Appending rectangle (0,3700,1903,4625)\n",
      "Appending rectangle (0,4625,1903,5550)\n",
      "Appending rectangle (0,5550,1903,5609)\n",
      "Capturing part_0.png ...\n",
      "Adding to stitched image with offset (0, 0)\n",
      "Scrolled To (0,925)\n",
      "Capturing part_1.png ...\n",
      "Adding to stitched image with offset (0, 925)\n",
      "Scrolled To (0,1850)\n",
      "Capturing part_2.png ...\n",
      "Adding to stitched image with offset (0, 1850)\n",
      "Scrolled To (0,2775)\n",
      "Capturing part_3.png ...\n",
      "Adding to stitched image with offset (0, 2775)\n",
      "Scrolled To (0,3700)\n",
      "Capturing part_4.png ...\n",
      "Adding to stitched image with offset (0, 3700)\n",
      "Scrolled To (0,4625)\n",
      "Capturing part_5.png ...\n",
      "Adding to stitched image with offset (0, 4625)\n",
      "Scrolled To (0,5550)\n",
      "Capturing part_6.png ...\n",
      "Adding to stitched image with offset (0, 4684)\n",
      "Finishing chrome full page screenshot workaround...\n"
     ]
    },
    {
     "data": {
      "text/plain": [
       "True"
      ]
     },
     "execution_count": 11,
     "metadata": {},
     "output_type": "execute_result"
    }
   ],
   "source": [
    "fullpage_screenshot(c.driver,'test.png')"
   ]
  },
  {
   "cell_type": "code",
   "execution_count": 18,
   "metadata": {},
   "outputs": [],
   "source": [
    "revize.gotoCMS()"
   ]
  },
  {
   "cell_type": "code",
   "execution_count": null,
   "metadata": {},
   "outputs": [],
   "source": [
    "with c.wait_for_page_load():\n",
    "    c.clickLinkByText(\"\"\"Add A New Category\"\"\")\n",
    "c.driver.save_screenshot(\"screenshot.png\")"
   ]
  },
  {
   "cell_type": "code",
   "execution_count": null,
   "metadata": {},
   "outputs": [],
   "source": [
    "def readystate_complete(d):\n",
    "    # AFAICT Selenium offers no better way to wait for the document to be loaded,\n",
    "    # if one is in ignorance of its contents.\n",
    "    return d.execute_script(\"return document.readyState\") == \"complete\"\n",
    "readystate_complete(c.driver)"
   ]
  },
  {
   "cell_type": "code",
   "execution_count": null,
   "metadata": {},
   "outputs": [],
   "source": [
    "c.clickLinkByText(\" Add A New Category\")"
   ]
  },
  {
   "cell_type": "code",
   "execution_count": null,
   "metadata": {},
   "outputs": [],
   "source": [
    "c.endSession()"
   ]
  },
  {
   "cell_type": "code",
   "execution_count": null,
   "metadata": {},
   "outputs": [],
   "source": [
    "login.run(c)"
   ]
  },
  {
   "cell_type": "code",
   "execution_count": null,
   "metadata": {},
   "outputs": [],
   "source": [
    "_isLoggedIn(c)"
   ]
  },
  {
   "cell_type": "code",
   "execution_count": null,
   "metadata": {},
   "outputs": [],
   "source": [
    "def test_login():\n",
    "    test = RevizeAdaptor()\n",
    "    revize = RevizeAdaptor(\n",
    "        username = user,\n",
    "        password = passwd\n",
    "    )\n",
    "    revize.get('http://cms3.revize.com/revize/inghamcounty/departments_and_officials/county_clerk/index.php')\n",
    "    if not revize._isLoggedIn():\n",
    "        raise Exception(\"Login Failed\")\n",
    "    test.core.endSession()"
   ]
  },
  {
   "cell_type": "code",
   "execution_count": null,
   "metadata": {},
   "outputs": [],
   "source": [
    "test_login()\n",
    "# Passing"
   ]
  },
  {
   "cell_type": "code",
   "execution_count": null,
   "metadata": {},
   "outputs": [],
   "source": []
  },
  {
   "cell_type": "code",
   "execution_count": null,
   "metadata": {},
   "outputs": [],
   "source": []
  },
  {
   "cell_type": "code",
   "execution_count": null,
   "metadata": {},
   "outputs": [],
   "source": []
  },
  {
   "cell_type": "code",
   "execution_count": null,
   "metadata": {},
   "outputs": [],
   "source": []
  },
  {
   "cell_type": "markdown",
   "metadata": {},
   "source": [
    "## RANDOM STUFF BELOW::"
   ]
  },
  {
   "cell_type": "code",
   "execution_count": null,
   "metadata": {},
   "outputs": [],
   "source": [
    "a.driver.window_handles"
   ]
  },
  {
   "cell_type": "code",
   "execution_count": null,
   "metadata": {},
   "outputs": [],
   "source": [
    "for window in a.driver.window_handles:\n",
    "    a.driver.switch_to(window)\n",
    "    a.driver.close()"
   ]
  },
  {
   "cell_type": "code",
   "execution_count": null,
   "metadata": {},
   "outputs": [],
   "source": [
    "dir(a.driver)"
   ]
  },
  {
   "cell_type": "code",
   "execution_count": null,
   "metadata": {},
   "outputs": [],
   "source": [
    "        driver.find_element_by_xpath(\"//input[@name='appendedInput']\").send_keys(input('username:'))\n",
    "        driver.find_element_by_xpath(\"//input[@name='password']\").send_keys(input('username:'))\n",
    "        driver.find_element_by_xpath(\"//input[@name='submit1']\").click()\n",
    "        "
   ]
  }
 ],
 "metadata": {
  "kernelspec": {
   "display_name": "Python 3",
   "language": "python",
   "name": "python3"
  },
  "language_info": {
   "codemirror_mode": {
    "name": "ipython",
    "version": 3
   },
   "file_extension": ".py",
   "mimetype": "text/x-python",
   "name": "python",
   "nbconvert_exporter": "python",
   "pygments_lexer": "ipython3",
   "version": "3.6.5"
  }
 },
 "nbformat": 4,
 "nbformat_minor": 4
}
