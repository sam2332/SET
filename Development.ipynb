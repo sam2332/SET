{
 "cells": [
  {
   "cell_type": "code",
   "execution_count": null,
   "metadata": {},
   "outputs": [],
   "source": [
    "from SET.Adaptors import AuthedSiteAdaptor\n",
    "from getpass import getpass"
   ]
  },
  {
   "cell_type": "code",
   "execution_count": 8,
   "metadata": {},
   "outputs": [],
   "source": [
    "class RevizeAdaptor(AuthedSiteAdaptor):\n",
    "    def _isLoggedIn(self):\n",
    "        test_url = \"http://cms3.revize.com/revize/admincenter/subjects.jsp\"\n",
    "        text = self.core.getRequestsSession().get(test_url).text\n",
    "        if \"You are currently logged In. Click below to logout\" in text:\n",
    "            return True\n",
    "        else:\n",
    "            return False\n",
    "    \n",
    "    \n",
    "    def _login(self):\n",
    "        print('Need help logging in please.')\n",
    "        with self.core.wait_for_page_load():\n",
    "            self.driver.get(\"http://cms3.revize.com/revize/security/index.jsp?webspace=inghamcounty&filename=/departments_and_officials/animal_control/index.php\")\n",
    "            self.driver.find_element_by_xpath(\"//input[@name='userID']\").send_keys(input('username:'))\n",
    "            self.driver.find_element_by_xpath(\"//input[@name='password']\").send_keys(getpass('password:'))\n",
    "            self.driver.find_element_by_xpath(\"//input[@name='submit1']\").click()   \n",
    "\n",
    "        if \"User Id and Password combination are invalid.\" in self.driver.page_source:\n",
    "            print('Login Failed')\n",
    "            return False\n",
    "        \n",
    "        print('Login Successful')\n",
    "        return True"
   ]
  },
  {
   "cell_type": "code",
   "execution_count": null,
   "metadata": {},
   "outputs": [],
   "source": []
  },
  {
   "cell_type": "code",
   "execution_count": null,
   "metadata": {},
   "outputs": [],
   "source": [
    "def test_login():\n",
    "    test = RevizeAdaptor()\n",
    "    try:\n",
    "        test.get('http://cms3.revize.com/revize/inghamcounty/departments_and_officials/county_clerk/index.php')\n",
    "    except Exception as e:\n",
    "        print(e)\n",
    "    test.core.endSession()"
   ]
  },
  {
   "cell_type": "code",
   "execution_count": null,
   "metadata": {},
   "outputs": [],
   "source": [
    "test_login()\n",
    "# Passing"
   ]
  },
  {
   "cell_type": "code",
   "execution_count": null,
   "metadata": {},
   "outputs": [],
   "source": []
  },
  {
   "cell_type": "code",
   "execution_count": null,
   "metadata": {},
   "outputs": [],
   "source": []
  },
  {
   "cell_type": "code",
   "execution_count": null,
   "metadata": {},
   "outputs": [],
   "source": []
  },
  {
   "cell_type": "code",
   "execution_count": null,
   "metadata": {},
   "outputs": [],
   "source": []
  },
  {
   "cell_type": "markdown",
   "metadata": {},
   "source": [
    "## RANDOM STUFF BELOW::"
   ]
  },
  {
   "cell_type": "code",
   "execution_count": null,
   "metadata": {},
   "outputs": [],
   "source": [
    "a.driver.window_handles"
   ]
  },
  {
   "cell_type": "code",
   "execution_count": null,
   "metadata": {},
   "outputs": [],
   "source": [
    "for window in a.driver.window_handles:\n",
    "    a.driver.switch_to(window)\n",
    "    a.driver.close()"
   ]
  },
  {
   "cell_type": "code",
   "execution_count": null,
   "metadata": {},
   "outputs": [],
   "source": [
    "dir(a.driver)"
   ]
  },
  {
   "cell_type": "code",
   "execution_count": null,
   "metadata": {},
   "outputs": [],
   "source": [
    "        driver.find_element_by_xpath(\"//input[@name='appendedInput']\").send_keys(input('username:'))\n",
    "        driver.find_element_by_xpath(\"//input[@name='password']\").send_keys(input('username:'))\n",
    "        driver.find_element_by_xpath(\"//input[@name='submit1']\").click()\n",
    "        "
   ]
  }
 ],
 "metadata": {
  "kernelspec": {
   "display_name": "Python 3",
   "language": "python",
   "name": "python3"
  },
  "language_info": {
   "codemirror_mode": {
    "name": "ipython",
    "version": 3
   },
   "file_extension": ".py",
   "mimetype": "text/x-python",
   "name": "python",
   "nbconvert_exporter": "python",
   "pygments_lexer": "ipython3",
   "version": "3.6.5"
  }
 },
 "nbformat": 4,
 "nbformat_minor": 4
}
